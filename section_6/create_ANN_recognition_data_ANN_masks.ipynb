{
 "cells": [
  {
   "cell_type": "markdown",
   "metadata": {},
   "source": [
    "# Data generation for ANN recognition with ANN masks\n",
    "\n",
    "This notebook generates unmasked and masked data for the ANN recognition with ANN masks experiments."
   ]
  },
  {
   "cell_type": "code",
   "execution_count": 1,
   "metadata": {},
   "outputs": [],
   "source": [
    "import numpy as np\n",
    "from os.path import dirname, join as pjoin\n",
    "import scipy.io as sio\n",
    "from scipy import ndimage\n",
    "import matplotlib.pyplot as plt\n",
    "import fnmatch\n",
    "import os\n",
    "import itertools\n",
    "import cv2\n",
    "import pathlib"
   ]
  },
  {
   "cell_type": "code",
   "execution_count": 2,
   "metadata": {},
   "outputs": [
    {
     "data": {
      "text/plain": [
       "([PosixPath('../human-maps/img24_image.mat'),\n",
       "  PosixPath('../human-maps/img126_image.mat')],\n",
       " [PosixPath('../out/new_maps_imagenet/img146/img146_network_alexnet_method_smoothgradguidedbp.mat'),\n",
       "  PosixPath('../out/new_maps_imagenet/img115/img115_network_alexnet_method_smoothgradguidedbp.mat')],\n",
       " [PosixPath('../out/new_maps_imagenet/img146/img146_network_alexnet_method_gradcam_selector_11.mat'),\n",
       "  PosixPath('../out/new_maps_imagenet/img115/img115_network_alexnet_method_gradcam_selector_11.mat')])"
      ]
     },
     "execution_count": 2,
     "metadata": {},
     "output_type": "execute_result"
    }
   ],
   "source": [
    "alexnet_sggbp_fls = list(pathlib.Path('../out/new_maps_imagenet').glob('**/*network_alexnet_method_smoothgradguidedbp.mat'))\n",
    "alexnet_gradcam11_fls = list(pathlib.Path('../out/new_maps_imagenet').glob('**/*network_alexnet_method_gradcam_selector_11.mat'))\n",
    "image_fls = list(pathlib.Path('../human-maps').glob('**/*image.mat'))\n",
    "ids = list(map(lambda f: int(str(f).split('/')[-1].split('_')[0][3:]), image_fls))\n",
    "image_fls[:2], alexnet_sggbp_fls[:2], alexnet_gradcam11_fls[:2]"
   ]
  },
  {
   "cell_type": "markdown",
   "metadata": {},
   "source": [
    "Helper functions for loading, saving, and mask/image processing."
   ]
  },
  {
   "cell_type": "code",
   "execution_count": 3,
   "metadata": {},
   "outputs": [],
   "source": [
    "which_files = {\n",
    "    'alexnet-sggbp': alexnet_sggbp_fls,\n",
    "    'alexnet-gradcam11': alexnet_gradcam11_fls,\n",
    "}\n",
    "\n",
    "def get_mask(mat_fname, exponent, threshold, rotation, mp_shape):\n",
    "    \"\"\"Load the mask and apply transformations.\"\"\"\n",
    "\n",
    "    # Path to specific (patch) map.\n",
    "    mat_contents = sio.loadmat(mat_fname)\n",
    "    #TODO: remove hardcode\n",
    "    try:\n",
    "        mp = mat_contents['smoothgradguidedbp']\n",
    "    except KeyError:\n",
    "        mp = mat_contents['gradcam']\n",
    "    \n",
    "    # Resize.\n",
    "    mp = cv2.resize(mp, mp_shape, interpolation=cv2.INTER_AREA)\n",
    "    \n",
    "    # Truncate.\n",
    "    if threshold is None:\n",
    "        # Truncate 50% of pixels.\n",
    "        half = np.prod(mp.shape) // 2\n",
    "        threshold = np.partition(mp, np.prod(mp.shape)//2, axis=None)[half]\n",
    "    mp[mp < threshold] = threshold\n",
    "    mp -= threshold\n",
    "\n",
    "    # Normalize.\n",
    "    mp /= np.max(mp)\n",
    "\n",
    "    # Exponentiate.\n",
    "    mp **= exponent\n",
    "    \n",
    "    # Rotate.\n",
    "    mp = np.rot90(mp, rotation // 90)\n",
    "    \n",
    "    return mp\n",
    " \n",
    "    \n",
    "def get_image(im_fname, im_shape):\n",
    "    \"\"\"Load the image, resize, and tranform to float.\"\"\"\n",
    "    \n",
    "    # Read in image.\n",
    "    im_contents = sio.loadmat(im_fname)\n",
    "    im = im_contents['im']\n",
    "\n",
    "    # Resize.\n",
    "    im = cv2.resize(im, im_shape, interpolation=cv2.INTER_AREA)\n",
    "\n",
    "    # Color conversion.\n",
    "    im = cv2.cvtColor(im, cv2.COLOR_BGR2RGB)\n",
    "    im = im.astype(float)/255 \n",
    "    \n",
    "    return im\n",
    "        \n",
    "\n",
    "def create_test_data(mask_type, null_type, exponent, threshold, rotation, im_shape=[250, 250]):\n",
    "\n",
    "    # One folder per hparam setting.\n",
    "    set_name = 'mask={}_null={}_exp={}_threshold={}_rotation={}'.format(\n",
    "        mask_type, null_type, exponent, threshold, rotation)\n",
    "    dir_name = 'ANN_recognition_data'\n",
    "    set_fn = pjoin(dir_name, set_name)\n",
    "         \n",
    "    if not os.path.exists(dir_name):\n",
    "        os.mkdir(dir_name)\n",
    "    if not os.path.exists(set_fn):\n",
    "        os.mkdir(set_fn)\n",
    "    \n",
    "    # Combine the image with each mask (correct and incorrect).\n",
    "    for image_fl in image_fls:\n",
    "        \n",
    "        im = get_image(image_fl, im_shape=im_shape)\n",
    "        img_id = int(str(image_fl).split('/')[-1].split('_')[0][3:])\n",
    "                    \n",
    "        if null_type == 'black':\n",
    "            null_value = np.array([0.0, 0.0, 0.0])\n",
    "        elif null_type == 'average':\n",
    "            null_value = im.mean(axis=0).mean(axis=0)\n",
    "        else:\n",
    "            raise ValueError(\"Unsupported null value type.\")\n",
    "        \n",
    "        # Loop over possible_masks.\n",
    "        for mask_id in ids:\n",
    "            mask_fl = list(filter(lambda f: str(mask_id) in str(f), which_files[mask_type]))[0]\n",
    "            mp = get_mask(mask_fl, exponent, threshold, rotation, mp_shape=im_shape)\n",
    "\n",
    "            # Interpolate to null value.\n",
    "            transformed_im = (\n",
    "                np.einsum('ij,k->ijk', 1 - mp, null_value) +\n",
    "                np.einsum('ij,ijk->ijk', mp, im - null_value[np.newaxis, np.newaxis, :])\n",
    "            )\n",
    "\n",
    "            # Write image to File\n",
    "            fn = 'img{}_mask{}.png'.format(img_id, mask_id)        \n",
    "            file_path = pjoin(set_fn, fn)\n",
    "            cv2.imwrite(file_path, transformed_im * 255)\n",
    "        \n",
    "    # Also create an appropriately-resized unmasked image.\n",
    "    # This assumes all masks of a certain type are the same size.\n",
    "    for image_fl in image_fls:\n",
    "        im = get_image(image_fl, im_shape=mp.shape)\n",
    "        imid = str(image_fl).split('/')[-1].split('_')[0][3:]\n",
    "        fn = 'img{}_nomask.png'.format(imid)   \n",
    "        file_path = pjoin(set_fn, fn)\n",
    "        cv2.imwrite(file_path, im * 255)"
   ]
  },
  {
   "cell_type": "markdown",
   "metadata": {},
   "source": [
    "Create the unmasked and masked data. "
   ]
  },
  {
   "cell_type": "code",
   "execution_count": 4,
   "metadata": {
    "scrolled": true
   },
   "outputs": [
    {
     "name": "stdout",
     "output_type": "stream",
     "text": [
      "Doing...\n",
      "Done.\n",
      "Doing...\n",
      "Done.\n"
     ]
    }
   ],
   "source": [
    "null_types = ['black']#, 'average']\n",
    "mask_types = which_files.keys()\n",
    "exponents = [1.0]#, 1.5, 2.0, 4.0, 8.0, 16.0]\n",
    "thresholds = [None] #[0.0625, 0.125, 0.25, 0.5]\n",
    "rotations = [0]#, 90, 180, 270]\n",
    "\n",
    "for (mask_type, null_type, exponent, threshold, rotation) in itertools.product(\n",
    "    mask_types, null_types, exponents, thresholds, rotations):\n",
    "    print('Doing...')\n",
    "    create_test_data(mask_type=mask_type, \n",
    "                     null_type=null_type,\n",
    "                     exponent=exponent,\n",
    "                     threshold=threshold,\n",
    "                     rotation=rotation)\n",
    "    print('Done.')"
   ]
  }
 ],
 "metadata": {
  "kernelspec": {
   "display_name": "Python 3",
   "language": "python",
   "name": "python3"
  },
  "language_info": {
   "codemirror_mode": {
    "name": "ipython",
    "version": 3
   },
   "file_extension": ".py",
   "mimetype": "text/x-python",
   "name": "python",
   "nbconvert_exporter": "python",
   "pygments_lexer": "ipython3",
   "version": "3.9.5"
  }
 },
 "nbformat": 4,
 "nbformat_minor": 2
}
